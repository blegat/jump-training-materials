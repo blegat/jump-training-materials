{
 "cells": [
  {
   "cell_type": "markdown",
   "source": [
    "# Getting started with JuMP"
   ],
   "metadata": {}
  },
  {
   "cell_type": "markdown",
   "source": [
    "This tutorial is aimed at providing a quick introduction to writing JuMP code.\n",
    "If you're new to Julia, you should start with Getting started with Julia."
   ],
   "metadata": {}
  },
  {
   "cell_type": "markdown",
   "source": [
    "## What is JuMP?"
   ],
   "metadata": {}
  },
  {
   "cell_type": "markdown",
   "source": [
    "JuMP (\"Julia for Mathematical Programming\") is an open-source modeling\n",
    "language that is embedded in Julia. It allows users to users formulate various\n",
    "classes of optimization problems (linear, mixed-integer, quadratic, conic\n",
    "quadratic, semidefinite, and nonlinear) with easy-to-read code. These problems\n",
    "can then be solved using state-of-the-art open-source and commercial solvers."
   ],
   "metadata": {}
  },
  {
   "cell_type": "markdown",
   "source": [
    "JuMP also makes advanced optimization techniques easily accessible from a\n",
    "high-level language."
   ],
   "metadata": {}
  },
  {
   "cell_type": "markdown",
   "source": [
    "## Installation"
   ],
   "metadata": {}
  },
  {
   "cell_type": "markdown",
   "source": [
    "JuMP is a package for Julia. From Julia, JuMP is installed by using the\n",
    "built-in package manager."
   ],
   "metadata": {}
  },
  {
   "cell_type": "markdown",
   "source": [
    "```julia\n",
    "import Pkg\n",
    "Pkg.add(\"JuMP\")\n",
    "```"
   ],
   "metadata": {}
  },
  {
   "cell_type": "markdown",
   "source": [
    "You also need to include a Julia package which provides an appropriate solver.\n",
    "One such solver is `GLPK.Optimizer`, which is provided by the\n",
    "[GLPK.jl package](https://github.com/JuliaOpt/GLPK.jl).\n",
    "```julia\n",
    "import Pkg\n",
    "Pkg.add(\"GLPK\")\n",
    "```\n",
    "See Installation Guide for a list of other solvers you can use."
   ],
   "metadata": {}
  },
  {
   "cell_type": "markdown",
   "source": [
    "## An example"
   ],
   "metadata": {}
  },
  {
   "cell_type": "markdown",
   "source": [
    "Let's try to solve the following linear programming problem by using JuMP and\n",
    "GLPK. We will first look at the complete code to solve the problem and then go\n",
    "through it step by step."
   ],
   "metadata": {}
  },
  {
   "cell_type": "markdown",
   "source": [
    "$$\n",
    "\\begin{aligned}\n",
    "& \\min & 12x + 20y \\\\\n",
    "& \\;\\;\\text{s.t.} & 6x + 8y \\geq 100 \\\\\n",
    "& & 7x + 12y \\geq 120 \\\\\n",
    "& & x \\geq 0 \\\\\n",
    "& & y \\in [0, 3] \\\\\n",
    "\\end{aligned}\n",
    "$$"
   ],
   "metadata": {}
  },
  {
   "outputs": [],
   "cell_type": "code",
   "source": [
    "using JuMP\n",
    "using GLPK\n",
    "model = Model(GLPK.Optimizer)\n",
    "@variable(model, x >= 0)\n",
    "@variable(model, 0 <= y <= 3)\n",
    "@objective(model, Min, 12x + 20y)\n",
    "@constraint(model, c1, 6x + 8y >= 100)\n",
    "@constraint(model, c2, 7x + 12y >= 120)\n",
    "print(model)\n",
    "optimize!(model)\n",
    "@show termination_status(model)\n",
    "@show primal_status(model)\n",
    "@show dual_status(model)\n",
    "@show objective_value(model)\n",
    "@show value(x)\n",
    "@show value(y)\n",
    "@show shadow_price(c1)\n",
    "@show shadow_price(c2)"
   ],
   "metadata": {},
   "execution_count": null
  },
  {
   "cell_type": "markdown",
   "source": [
    "## Step-by-step"
   ],
   "metadata": {}
  },
  {
   "cell_type": "markdown",
   "source": [
    "Once JuMP is installed, to use JuMP in your programs, we just need to write:"
   ],
   "metadata": {}
  },
  {
   "outputs": [],
   "cell_type": "code",
   "source": [
    "using JuMP"
   ],
   "metadata": {},
   "execution_count": null
  },
  {
   "cell_type": "markdown",
   "source": [
    "We also need to include a Julia package which provides an appropriate solver.\n",
    "We want to use `GLPK.Optimizer` here which is provided by the `GLPK.jl`\n",
    "package."
   ],
   "metadata": {}
  },
  {
   "outputs": [],
   "cell_type": "code",
   "source": [
    "using GLPK"
   ],
   "metadata": {},
   "execution_count": null
  },
  {
   "cell_type": "markdown",
   "source": [
    "A model object is a container for variables, constraints, solver options, etc.\n",
    "Models are created with the `Model` function. The model can be created\n",
    "with an optimizer attached with default arguments by calling the constructor\n",
    "with the optimizer type, as follows:"
   ],
   "metadata": {}
  },
  {
   "outputs": [],
   "cell_type": "code",
   "source": [
    "model = Model(GLPK.Optimizer)"
   ],
   "metadata": {},
   "execution_count": null
  },
  {
   "cell_type": "markdown",
   "source": [
    "Variables are modeled using `@variable`:"
   ],
   "metadata": {}
  },
  {
   "outputs": [],
   "cell_type": "code",
   "source": [
    "@variable(model, x >= 0)"
   ],
   "metadata": {},
   "execution_count": null
  },
  {
   "cell_type": "markdown",
   "source": [
    "They can have lower and upper bounds."
   ],
   "metadata": {}
  },
  {
   "outputs": [],
   "cell_type": "code",
   "source": [
    "@variable(model, 0 <= y <= 30)"
   ],
   "metadata": {},
   "execution_count": null
  },
  {
   "cell_type": "markdown",
   "source": [
    "The objective is set using `@objective`:"
   ],
   "metadata": {}
  },
  {
   "outputs": [],
   "cell_type": "code",
   "source": [
    "@objective(model, Min, 12x + 20y)"
   ],
   "metadata": {},
   "execution_count": null
  },
  {
   "cell_type": "markdown",
   "source": [
    "Constraints are modeled using `@constraint`. Here `c1` and `c2` are\n",
    "the names of our constraint."
   ],
   "metadata": {}
  },
  {
   "outputs": [],
   "cell_type": "code",
   "source": [
    "@constraint(model, c1, 6x + 8y >= 100)"
   ],
   "metadata": {},
   "execution_count": null
  },
  {
   "outputs": [],
   "cell_type": "code",
   "source": [
    "@constraint(model, c2, 7x + 12y >= 120)"
   ],
   "metadata": {},
   "execution_count": null
  },
  {
   "outputs": [],
   "cell_type": "code",
   "source": [
    "print(model)"
   ],
   "metadata": {},
   "execution_count": null
  },
  {
   "cell_type": "markdown",
   "source": [
    "To solve the optimization problem, call the [`optimize!`] function."
   ],
   "metadata": {}
  },
  {
   "outputs": [],
   "cell_type": "code",
   "source": [
    "optimize!(model)"
   ],
   "metadata": {},
   "execution_count": null
  },
  {
   "cell_type": "markdown",
   "source": [
    "!!! info\n",
    "    The `!` after optimize is just part of the name. It's nothing special.\n",
    "    Julia has a convention that functions which mutate their arguments should\n",
    "    end in `!`. A common example is `push!`."
   ],
   "metadata": {}
  },
  {
   "cell_type": "markdown",
   "source": [
    "Now let's see what information we can query about the solution."
   ],
   "metadata": {}
  },
  {
   "cell_type": "markdown",
   "source": [
    "`termination_status` tells us why the solver stopped:"
   ],
   "metadata": {}
  },
  {
   "outputs": [],
   "cell_type": "code",
   "source": [
    "termination_status(model)"
   ],
   "metadata": {},
   "execution_count": null
  },
  {
   "cell_type": "markdown",
   "source": [
    "In this case, the solver found an optimal solution. We should also check\n",
    "`primal_status` to see if the solver found a primal feasible point:"
   ],
   "metadata": {}
  },
  {
   "outputs": [],
   "cell_type": "code",
   "source": [
    "primal_status(model)"
   ],
   "metadata": {},
   "execution_count": null
  },
  {
   "cell_type": "markdown",
   "source": [
    "and `dual_status` to see if the solver found a dual feasible point:"
   ],
   "metadata": {}
  },
  {
   "outputs": [],
   "cell_type": "code",
   "source": [
    "dual_status(model)"
   ],
   "metadata": {},
   "execution_count": null
  },
  {
   "cell_type": "markdown",
   "source": [
    "Now we know that our solver found an optimal solution, and has a primal and a\n",
    "dual solution to query."
   ],
   "metadata": {}
  },
  {
   "cell_type": "markdown",
   "source": [
    "Query the objective value using `objective_value`:"
   ],
   "metadata": {}
  },
  {
   "outputs": [],
   "cell_type": "code",
   "source": [
    "objective_value(model)"
   ],
   "metadata": {},
   "execution_count": null
  },
  {
   "cell_type": "markdown",
   "source": [
    "The primal solution using `value`:"
   ],
   "metadata": {}
  },
  {
   "outputs": [],
   "cell_type": "code",
   "source": [
    "value(x)"
   ],
   "metadata": {},
   "execution_count": null
  },
  {
   "outputs": [],
   "cell_type": "code",
   "source": [
    "value(y)"
   ],
   "metadata": {},
   "execution_count": null
  },
  {
   "cell_type": "markdown",
   "source": [
    "and the dual solution using `shadow_price`:"
   ],
   "metadata": {}
  },
  {
   "outputs": [],
   "cell_type": "code",
   "source": [
    "shadow_price(c1)"
   ],
   "metadata": {},
   "execution_count": null
  },
  {
   "outputs": [],
   "cell_type": "code",
   "source": [
    "shadow_price(c2)"
   ],
   "metadata": {},
   "execution_count": null
  },
  {
   "cell_type": "markdown",
   "source": [
    "## Variable basics"
   ],
   "metadata": {}
  },
  {
   "outputs": [],
   "cell_type": "code",
   "source": [
    "model = Model()"
   ],
   "metadata": {},
   "execution_count": null
  },
  {
   "cell_type": "markdown",
   "source": [
    "### Variable bounds"
   ],
   "metadata": {}
  },
  {
   "cell_type": "markdown",
   "source": [
    "All of the variables we have created till now have had a bound. We can also\n",
    "create a free variable."
   ],
   "metadata": {}
  },
  {
   "outputs": [],
   "cell_type": "code",
   "source": [
    "@variable(model, free_x)"
   ],
   "metadata": {},
   "execution_count": null
  },
  {
   "cell_type": "markdown",
   "source": [
    "While creating a variable, instead of using the <= and >= syntax, we can also\n",
    "use the `lower_bound` and `upper_bound` keyword arguments."
   ],
   "metadata": {}
  },
  {
   "outputs": [],
   "cell_type": "code",
   "source": [
    "@variable(model, keyword_x, lower_bound = 1, upper_bound = 2)"
   ],
   "metadata": {},
   "execution_count": null
  },
  {
   "cell_type": "markdown",
   "source": [
    "We can query whether a variable has a bound using the `has_lower_bound` and\n",
    "`has_upper_bound` functions. The values of the bound can be obtained using the\n",
    "`lower_bound` and `upper_bound` functions."
   ],
   "metadata": {}
  },
  {
   "outputs": [],
   "cell_type": "code",
   "source": [
    "has_upper_bound(keyword_x)"
   ],
   "metadata": {},
   "execution_count": null
  },
  {
   "outputs": [],
   "cell_type": "code",
   "source": [
    "upper_bound(keyword_x)"
   ],
   "metadata": {},
   "execution_count": null
  },
  {
   "cell_type": "markdown",
   "source": [
    "Note querying the value of a bound that does not exist will result in an error."
   ],
   "metadata": {}
  },
  {
   "outputs": [],
   "cell_type": "code",
   "source": [
    "lower_bound(free_x)"
   ],
   "metadata": {},
   "execution_count": null
  },
  {
   "cell_type": "markdown",
   "source": [
    "JuMP also allows us to change the bounds on variable. We will learn this in\n",
    "the problem modification tutorial."
   ],
   "metadata": {}
  },
  {
   "cell_type": "markdown",
   "source": [
    "### Containers"
   ],
   "metadata": {}
  },
  {
   "cell_type": "markdown",
   "source": [
    "We have already seen how to add a single variable to a model using the\n",
    "`@variable` macro. Let's now look at more ways to add variables to a\n",
    "JuMP model."
   ],
   "metadata": {}
  },
  {
   "cell_type": "markdown",
   "source": [
    "JuMP provides data structures for adding collections of variables to a model.\n",
    "These data structures are referred to as Containers and are of three types:\n",
    "`Arrays`, `DenseAxisArrays`, and `SparseAxisArrays`."
   ],
   "metadata": {}
  },
  {
   "cell_type": "markdown",
   "source": [
    "#### Arrays"
   ],
   "metadata": {}
  },
  {
   "cell_type": "markdown",
   "source": [
    "JuMP arrays are created in a similar syntax to Julia arrays with the addition\n",
    "of specifying that the indices start with 1. If we do not tell JuMP that the\n",
    "indices start at 1, it will create a `DenseAxisArray` instead."
   ],
   "metadata": {}
  },
  {
   "outputs": [],
   "cell_type": "code",
   "source": [
    "@variable(model, a[1:2, 1:2])"
   ],
   "metadata": {},
   "execution_count": null
  },
  {
   "cell_type": "markdown",
   "source": [
    "An n-dimensional variable $x \\in {R}^n$ having a bound $l \\preceq x \\preceq u$\n",
    "($l, u \\in {R}^n$) is added in the following manner."
   ],
   "metadata": {}
  },
  {
   "outputs": [],
   "cell_type": "code",
   "source": [
    "n = 10\n",
    "l = [1; 2; 3; 4; 5; 6; 7; 8; 9; 10]\n",
    "u = [10; 11; 12; 13; 14; 15; 16; 17; 18; 19]\n",
    "\n",
    "@variable(model, l[i] <= x[i = 1:n] <= u[i])"
   ],
   "metadata": {},
   "execution_count": null
  },
  {
   "cell_type": "markdown",
   "source": [
    "Note that while working with Containers, we can also create variable bounds\n",
    "depending upon the indices:"
   ],
   "metadata": {}
  },
  {
   "outputs": [],
   "cell_type": "code",
   "source": [
    "@variable(model, y[i = 1:2, j = 1:2] >= 2i + j)"
   ],
   "metadata": {},
   "execution_count": null
  },
  {
   "cell_type": "markdown",
   "source": [
    "#### DenseAxisArrays"
   ],
   "metadata": {}
  },
  {
   "cell_type": "markdown",
   "source": [
    "`DenseAxisArrays` are used when the required indices are not one-based integer\n",
    "ranges. The syntax is similar except with an arbitrary vector as an index as\n",
    "opposed to a one-based range."
   ],
   "metadata": {}
  },
  {
   "cell_type": "markdown",
   "source": [
    "An example where the indices are integers but do not start with one."
   ],
   "metadata": {}
  },
  {
   "outputs": [],
   "cell_type": "code",
   "source": [
    "@variable(model, z[i = 2:3, j = 1:2:3] >= 0)"
   ],
   "metadata": {},
   "execution_count": null
  },
  {
   "cell_type": "markdown",
   "source": [
    "Another example where the indices are an arbitrary vector."
   ],
   "metadata": {}
  },
  {
   "outputs": [],
   "cell_type": "code",
   "source": [
    "@variable(model, w[1:5, [\"red\", \"blue\"]] <= 1)"
   ],
   "metadata": {},
   "execution_count": null
  },
  {
   "cell_type": "markdown",
   "source": [
    "#### SparseAxisArrays"
   ],
   "metadata": {}
  },
  {
   "cell_type": "markdown",
   "source": [
    "`SparseAxisArrays` are created when the indices do not form a rectangular set.\n",
    "For example, this applies when indices have a dependence upon previous indices\n",
    "(called triangular indexing)."
   ],
   "metadata": {}
  },
  {
   "outputs": [],
   "cell_type": "code",
   "source": [
    "@variable(model, u[i = 1:3, j = i:5])"
   ],
   "metadata": {},
   "execution_count": null
  },
  {
   "cell_type": "markdown",
   "source": [
    "We can also conditionally create variables by adding a comparison check that\n",
    "depends upon the named indices and is separated from the indices by a\n",
    "semi-colon (;)."
   ],
   "metadata": {}
  },
  {
   "outputs": [],
   "cell_type": "code",
   "source": [
    "@variable(model, v[i = 1:9; mod(i, 3) == 0])"
   ],
   "metadata": {},
   "execution_count": null
  },
  {
   "cell_type": "markdown",
   "source": [
    "### Variable types"
   ],
   "metadata": {}
  },
  {
   "cell_type": "markdown",
   "source": [
    "The last argument to the `@variable` macro is usually the variable type. Here\n",
    "we'll look at how to specify the variable type."
   ],
   "metadata": {}
  },
  {
   "cell_type": "markdown",
   "source": [
    "#### Integer variables"
   ],
   "metadata": {}
  },
  {
   "cell_type": "markdown",
   "source": [
    "Integer optimization variables are constrained to the set $x \\in {Z}$"
   ],
   "metadata": {}
  },
  {
   "outputs": [],
   "cell_type": "code",
   "source": [
    "@variable(model, integer_x, Int)"
   ],
   "metadata": {},
   "execution_count": null
  },
  {
   "cell_type": "markdown",
   "source": [
    "or"
   ],
   "metadata": {}
  },
  {
   "outputs": [],
   "cell_type": "code",
   "source": [
    "@variable(model, integer_z, integer = true)"
   ],
   "metadata": {},
   "execution_count": null
  },
  {
   "cell_type": "markdown",
   "source": [
    "#### Binary variables"
   ],
   "metadata": {}
  },
  {
   "cell_type": "markdown",
   "source": [
    "Binary optimization variables are constrained to the set $x \\in \\{0, 1\\}$."
   ],
   "metadata": {}
  },
  {
   "outputs": [],
   "cell_type": "code",
   "source": [
    "@variable(model, binary_x, Bin)"
   ],
   "metadata": {},
   "execution_count": null
  },
  {
   "cell_type": "markdown",
   "source": [
    "or"
   ],
   "metadata": {}
  },
  {
   "outputs": [],
   "cell_type": "code",
   "source": [
    "@variable(model, binary_z, binary = true)"
   ],
   "metadata": {},
   "execution_count": null
  },
  {
   "cell_type": "markdown",
   "source": [
    "#### Semidefinite variables"
   ],
   "metadata": {}
  },
  {
   "cell_type": "markdown",
   "source": [
    "JuMP also supports modeling with semidefinite variables. A square symmetric\n",
    "matrix X is positive semidefinite if all eigenvalues are nonnegative."
   ],
   "metadata": {}
  },
  {
   "outputs": [],
   "cell_type": "code",
   "source": [
    "@variable(model, psd_x[1:2, 1:2], PSD)"
   ],
   "metadata": {},
   "execution_count": null
  },
  {
   "cell_type": "markdown",
   "source": [
    "We can also impose a weaker constraint that the square matrix is only\n",
    "symmetric (instead of positive semidefinite) as follows:"
   ],
   "metadata": {}
  },
  {
   "outputs": [],
   "cell_type": "code",
   "source": [
    "@variable(model, sym_x[1:2, 1:2], Symmetric)"
   ],
   "metadata": {},
   "execution_count": null
  },
  {
   "cell_type": "markdown",
   "source": [
    "## Constraint basics"
   ],
   "metadata": {}
  },
  {
   "outputs": [],
   "cell_type": "code",
   "source": [
    "model = Model()\n",
    "@variable(model, x)\n",
    "@variable(model, y)\n",
    "@variable(model, z[1:10]);"
   ],
   "metadata": {},
   "execution_count": null
  },
  {
   "cell_type": "markdown",
   "source": [
    "### Constraint references"
   ],
   "metadata": {}
  },
  {
   "cell_type": "markdown",
   "source": [
    "While calling the `@constraint` macro, we can also set up a constraint\n",
    "reference. Such a reference is useful for obtaining additional information\n",
    "about the constraint, such as its dual solution."
   ],
   "metadata": {}
  },
  {
   "outputs": [],
   "cell_type": "code",
   "source": [
    "@constraint(model, con, x <= 4)"
   ],
   "metadata": {},
   "execution_count": null
  },
  {
   "cell_type": "markdown",
   "source": [
    "### Containers"
   ],
   "metadata": {}
  },
  {
   "cell_type": "markdown",
   "source": [
    "Just as we had containers for variables, JuMP also provides `Arrays`,\n",
    "`DenseAxisArrays`, and `SparseAxisArrays` for storing collections of\n",
    "constraints. Examples for each container type are given below."
   ],
   "metadata": {}
  },
  {
   "cell_type": "markdown",
   "source": [
    "#### Arrays"
   ],
   "metadata": {}
  },
  {
   "outputs": [],
   "cell_type": "code",
   "source": [
    "@constraint(model, [i = 1:3], i * x <= i + 1)"
   ],
   "metadata": {},
   "execution_count": null
  },
  {
   "cell_type": "markdown",
   "source": [
    "#### DenseAxisArrays"
   ],
   "metadata": {}
  },
  {
   "outputs": [],
   "cell_type": "code",
   "source": [
    "@constraint(model, [i = 1:2, j = 2:3], i * x <= j + 1)"
   ],
   "metadata": {},
   "execution_count": null
  },
  {
   "cell_type": "markdown",
   "source": [
    "#### SparseAxisArrays"
   ],
   "metadata": {}
  },
  {
   "outputs": [],
   "cell_type": "code",
   "source": [
    "@constraint(model, [i = 1:2, j = 1:2; i != j], i * x <= j + 1)"
   ],
   "metadata": {},
   "execution_count": null
  },
  {
   "cell_type": "markdown",
   "source": [
    "### Constraints in a loop"
   ],
   "metadata": {}
  },
  {
   "cell_type": "markdown",
   "source": [
    "We can add constraints using regular Julia loops"
   ],
   "metadata": {}
  },
  {
   "outputs": [],
   "cell_type": "code",
   "source": [
    "for i in 1:3\n",
    "    @constraint(model, 6x + 4y >= 5i)\n",
    "end"
   ],
   "metadata": {},
   "execution_count": null
  },
  {
   "cell_type": "markdown",
   "source": [
    "or use for each loops inside the `@constraint` macro."
   ],
   "metadata": {}
  },
  {
   "outputs": [],
   "cell_type": "code",
   "source": [
    "@constraint(model, [i in 1:3], 6x + 4y >= 5i)"
   ],
   "metadata": {},
   "execution_count": null
  },
  {
   "cell_type": "markdown",
   "source": [
    "We can also create constraints such as $\\sum _{i = 1}^{10} z_i \\leq 1$"
   ],
   "metadata": {}
  },
  {
   "outputs": [],
   "cell_type": "code",
   "source": [
    "@constraint(model, sum(z[i] for i in 1:10) <= 1)"
   ],
   "metadata": {},
   "execution_count": null
  },
  {
   "cell_type": "markdown",
   "source": [
    "## Objective functions"
   ],
   "metadata": {}
  },
  {
   "cell_type": "markdown",
   "source": [
    "While the recommended way to set the objective is with the `@objective`\n",
    "macro, the functions `set_objective_sense` and `set_objective_function`\n",
    "provide an equivalent lower-level interface."
   ],
   "metadata": {}
  },
  {
   "outputs": [],
   "cell_type": "code",
   "source": [
    "using GLPK\n",
    "\n",
    "model = Model(GLPK.Optimizer)\n",
    "@variable(model, x >= 0)\n",
    "@variable(model, y >= 0)\n",
    "set_objective_sense(model, MOI.MIN_SENSE)\n",
    "set_objective_function(model, x + y)\n",
    "\n",
    "optimize!(model)"
   ],
   "metadata": {},
   "execution_count": null
  },
  {
   "outputs": [],
   "cell_type": "code",
   "source": [
    "objective_value(model)"
   ],
   "metadata": {},
   "execution_count": null
  },
  {
   "cell_type": "markdown",
   "source": [
    "To query the objective function from a model, we use the `objective_sense`,\n",
    "`objective_function`, and `objective_function_type` functions."
   ],
   "metadata": {}
  },
  {
   "outputs": [],
   "cell_type": "code",
   "source": [
    "objective_sense(model)"
   ],
   "metadata": {},
   "execution_count": null
  },
  {
   "outputs": [],
   "cell_type": "code",
   "source": [
    "objective_function(model)"
   ],
   "metadata": {},
   "execution_count": null
  },
  {
   "outputs": [],
   "cell_type": "code",
   "source": [
    "objective_function_type(model)"
   ],
   "metadata": {},
   "execution_count": null
  },
  {
   "cell_type": "markdown",
   "source": [
    "## Vectorized syntax"
   ],
   "metadata": {}
  },
  {
   "cell_type": "markdown",
   "source": [
    "We can also add constraints and an objective to JuMP using vectorized linear\n",
    "algebra. We'll illustrate this by solving an LP in standard form i.e."
   ],
   "metadata": {}
  },
  {
   "cell_type": "markdown",
   "source": [
    "$$\n",
    "\\begin{aligned}\n",
    "& \\min & c^T x \\\\\n",
    "& \\;\\;\\text{s.t.} & A x = b \\\\\n",
    "& & x \\succeq 0 \\\\\n",
    "& & x \\in \\mathbb{R}^n\n",
    "\\end{aligned}\n",
    "$$"
   ],
   "metadata": {}
  },
  {
   "outputs": [],
   "cell_type": "code",
   "source": [
    "vector_model = Model(GLPK.Optimizer)\n",
    "\n",
    "A = [\n",
    "    1 1 9 5\n",
    "    3 5 0 8\n",
    "    2 0 6 13\n",
    "]\n",
    "\n",
    "b = [7; 3; 5]\n",
    "\n",
    "c = [1; 3; 5; 2]\n",
    "\n",
    "@variable(vector_model, x[1:4] >= 0)\n",
    "@constraint(vector_model, A * x .== b)\n",
    "@objective(vector_model, Min, c' * x)\n",
    "\n",
    "optimize!(vector_model)"
   ],
   "metadata": {},
   "execution_count": null
  },
  {
   "outputs": [],
   "cell_type": "code",
   "source": [
    "objective_value(vector_model)"
   ],
   "metadata": {},
   "execution_count": null
  },
  {
   "cell_type": "markdown",
   "source": [
    "---\n",
    "\n",
    "*This notebook was generated using [Literate.jl](https://github.com/fredrikekre/Literate.jl).*"
   ],
   "metadata": {}
  }
 ],
 "nbformat_minor": 3,
 "metadata": {
  "language_info": {
   "file_extension": ".jl",
   "mimetype": "application/julia",
   "name": "julia",
   "version": "1.6.2"
  },
  "kernelspec": {
   "name": "julia-1.6",
   "display_name": "Julia 1.6.2",
   "language": "julia"
  }
 },
 "nbformat": 4
}
