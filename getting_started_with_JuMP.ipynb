{
 "cells": [
  {
   "cell_type": "markdown",
   "source": [
    "# Getting started with JuMP"
   ],
   "metadata": {}
  },
  {
   "cell_type": "markdown",
   "source": [
    "This tutorial is aimed at providing a quick introduction to writing JuMP code.\n",
    "If you're new to Julia, you should start with Getting started with Julia."
   ],
   "metadata": {}
  },
  {
   "cell_type": "markdown",
   "source": [
    "## What is JuMP?"
   ],
   "metadata": {}
  },
  {
   "cell_type": "markdown",
   "source": [
    "JuMP (\"Julia for Mathematical Programming\") is an open-source modeling\n",
    "language that is embedded in Julia. It allows users to users formulate various\n",
    "classes of optimization problems (linear, mixed-integer, quadratic, conic\n",
    "quadratic, semidefinite, and nonlinear) with easy-to-read code. These problems\n",
    "can then be solved using state-of-the-art open-source and commercial solvers."
   ],
   "metadata": {}
  },
  {
   "cell_type": "markdown",
   "source": [
    "JuMP also makes advanced optimization techniques easily accessible from a\n",
    "high-level language."
   ],
   "metadata": {}
  },
  {
   "cell_type": "markdown",
   "source": [
    "## Installation"
   ],
   "metadata": {}
  },
  {
   "cell_type": "markdown",
   "source": [
    "JuMP is a package for Julia. From Julia, JuMP is installed by using the\n",
    "built-in package manager."
   ],
   "metadata": {}
  },
  {
   "cell_type": "markdown",
   "source": [
    "```julia\n",
    "import Pkg\n",
    "Pkg.add(\"JuMP\")\n",
    "```"
   ],
   "metadata": {}
  },
  {
   "cell_type": "markdown",
   "source": [
    "You also need to include a Julia package which provides an appropriate solver.\n",
    "One such solver is `GLPK.Optimizer`, which is provided by the\n",
    "[GLPK.jl package](https://github.com/JuliaOpt/GLPK.jl).\n",
    "```julia\n",
    "import Pkg\n",
    "Pkg.add(\"GLPK\")\n",
    "```\n",
    "See Installation Guide for a list of other solvers you can use."
   ],
   "metadata": {}
  },
  {
   "cell_type": "markdown",
   "source": [
    "## An example"
   ],
   "metadata": {}
  },
  {
   "cell_type": "markdown",
   "source": [
    "Let's try to solve the following linear programming problem by using JuMP and\n",
    "GLPK. We will first look at the complete code to solve the problem and then go\n",
    "through it step by step."
   ],
   "metadata": {}
  },
  {
   "cell_type": "markdown",
   "source": [
    "$$\n",
    "\\begin{aligned}\n",
    "& \\min & 12x + 20y \\\\\n",
    "& \\;\\;\\text{s.t.} & 6x + 8y \\geq 100 \\\\\n",
    "& & 7x + 12y \\geq 120 \\\\\n",
    "& & x \\geq 0 \\\\\n",
    "& & y \\in [0, 3] \\\\\n",
    "\\end{aligned}\n",
    "$$"
   ],
   "metadata": {}
  },
  {
   "outputs": [],
   "cell_type": "code",
   "source": [
    "using JuMP\n",
    "using GLPK\n",
    "model = Model(GLPK.Optimizer)\n",
    "@variable(model, x >= 0)\n",
    "@variable(model, 0 <= y <= 3)\n",
    "@objective(model, Min, 12x + 20y)\n",
    "@constraint(model, c1, 6x + 8y >= 100)\n",
    "@constraint(model, c2, 7x + 12y >= 120)\n",
    "print(model)\n",
    "optimize!(model)\n",
    "@show termination_status(model)\n",
    "@show primal_status(model)\n",
    "@show dual_status(model)\n",
    "@show objective_value(model)\n",
    "@show value(x)\n",
    "@show value(y)\n",
    "@show shadow_price(c1)\n",
    "@show shadow_price(c2)\n",
    "nothing #hide"
   ],
   "metadata": {},
   "execution_count": null
  },
  {
   "cell_type": "markdown",
   "source": [
    "## Step-by-step"
   ],
   "metadata": {}
  },
  {
   "cell_type": "markdown",
   "source": [
    "Once JuMP is installed, to use JuMP in your programs, we just need to write:"
   ],
   "metadata": {}
  },
  {
   "outputs": [],
   "cell_type": "code",
   "source": [
    "using JuMP"
   ],
   "metadata": {},
   "execution_count": null
  },
  {
   "cell_type": "markdown",
   "source": [
    "We also need to include a Julia package which provides an appropriate solver.\n",
    "We want to use `GLPK.Optimizer` here which is provided by the `GLPK.jl`\n",
    "package."
   ],
   "metadata": {}
  },
  {
   "outputs": [],
   "cell_type": "code",
   "source": [
    "using GLPK"
   ],
   "metadata": {},
   "execution_count": null
  },
  {
   "cell_type": "markdown",
   "source": [
    "A model object is a container for variables, constraints, solver options, etc.\n",
    "Models are created with the `Model` function. The model can be created\n",
    "with an optimizer attached with default arguments by calling the constructor\n",
    "with the optimizer type, as follows:"
   ],
   "metadata": {}
  },
  {
   "outputs": [],
   "cell_type": "code",
   "source": [
    "model = Model(GLPK.Optimizer)"
   ],
   "metadata": {},
   "execution_count": null
  },
  {
   "cell_type": "markdown",
   "source": [
    "Variables are modeled using `@variable`:"
   ],
   "metadata": {}
  },
  {
   "outputs": [],
   "cell_type": "code",
   "source": [
    "@variable(model, x >= 0)"
   ],
   "metadata": {},
   "execution_count": null
  },
  {
   "cell_type": "markdown",
   "source": [
    "They can have lower and upper bounds."
   ],
   "metadata": {}
  },
  {
   "outputs": [],
   "cell_type": "code",
   "source": [
    "@variable(model, 0 <= y <= 30)"
   ],
   "metadata": {},
   "execution_count": null
  },
  {
   "cell_type": "markdown",
   "source": [
    "The objective is set using `@objective`:"
   ],
   "metadata": {}
  },
  {
   "outputs": [],
   "cell_type": "code",
   "source": [
    "@objective(model, Min, 12x + 20y)"
   ],
   "metadata": {},
   "execution_count": null
  },
  {
   "cell_type": "markdown",
   "source": [
    "Constraints are modeled using `@constraint`. Here `c1` and `c2` are\n",
    "the names of our constraint."
   ],
   "metadata": {}
  },
  {
   "outputs": [],
   "cell_type": "code",
   "source": [
    "@constraint(model, c1, 6x + 8y >= 100)"
   ],
   "metadata": {},
   "execution_count": null
  },
  {
   "outputs": [],
   "cell_type": "code",
   "source": [
    "@constraint(model, c2, 7x + 12y >= 120)"
   ],
   "metadata": {},
   "execution_count": null
  },
  {
   "outputs": [],
   "cell_type": "code",
   "source": [
    "print(model)"
   ],
   "metadata": {},
   "execution_count": null
  },
  {
   "cell_type": "markdown",
   "source": [
    "To solve the optimization problem, call the [`optimize!`] function."
   ],
   "metadata": {}
  },
  {
   "outputs": [],
   "cell_type": "code",
   "source": [
    "optimize!(model)"
   ],
   "metadata": {},
   "execution_count": null
  },
  {
   "cell_type": "markdown",
   "source": [
    "!!! info\n",
    "    The `!` after optimize is just part of the name. It's nothing special.\n",
    "    Julia has a convention that functions which mutate their arguments should\n",
    "    end in `!`. A common example is `push!`."
   ],
   "metadata": {}
  },
  {
   "cell_type": "markdown",
   "source": [
    "Now let's see what information we can query about the solution."
   ],
   "metadata": {}
  },
  {
   "cell_type": "markdown",
   "source": [
    "`termination_status` tells us why the solver stopped:"
   ],
   "metadata": {}
  },
  {
   "outputs": [],
   "cell_type": "code",
   "source": [
    "termination_status(model)"
   ],
   "metadata": {},
   "execution_count": null
  },
  {
   "cell_type": "markdown",
   "source": [
    "In this case, the solver found an optimal solution. We should also check\n",
    "`primal_status` to see if the solver found a primal feasible point:"
   ],
   "metadata": {}
  },
  {
   "outputs": [],
   "cell_type": "code",
   "source": [
    "primal_status(model)"
   ],
   "metadata": {},
   "execution_count": null
  },
  {
   "cell_type": "markdown",
   "source": [
    "and `dual_status` to see if the solver found a dual feasible point:"
   ],
   "metadata": {}
  },
  {
   "outputs": [],
   "cell_type": "code",
   "source": [
    "dual_status(model)"
   ],
   "metadata": {},
   "execution_count": null
  },
  {
   "cell_type": "markdown",
   "source": [
    "Now we know that our solver found an optimal solution, and has a primal and a\n",
    "dual solution to query."
   ],
   "metadata": {}
  },
  {
   "cell_type": "markdown",
   "source": [
    "Query the objective value using `objective_value`:"
   ],
   "metadata": {}
  },
  {
   "outputs": [],
   "cell_type": "code",
   "source": [
    "objective_value(model)"
   ],
   "metadata": {},
   "execution_count": null
  },
  {
   "cell_type": "markdown",
   "source": [
    "The primal solution using `value`:"
   ],
   "metadata": {}
  },
  {
   "outputs": [],
   "cell_type": "code",
   "source": [
    "value(x)"
   ],
   "metadata": {},
   "execution_count": null
  },
  {
   "outputs": [],
   "cell_type": "code",
   "source": [
    "value(y)"
   ],
   "metadata": {},
   "execution_count": null
  },
  {
   "cell_type": "markdown",
   "source": [
    "and the dual solution using `shadow_price`:"
   ],
   "metadata": {}
  },
  {
   "outputs": [],
   "cell_type": "code",
   "source": [
    "shadow_price(c1)"
   ],
   "metadata": {},
   "execution_count": null
  },
  {
   "outputs": [],
   "cell_type": "code",
   "source": [
    "shadow_price(c2)"
   ],
   "metadata": {},
   "execution_count": null
  },
  {
   "cell_type": "markdown",
   "source": [
    "---\n",
    "\n",
    "*This notebook was generated using [Literate.jl](https://github.com/fredrikekre/Literate.jl).*"
   ],
   "metadata": {}
  }
 ],
 "nbformat_minor": 3,
 "metadata": {
  "language_info": {
   "file_extension": ".jl",
   "mimetype": "application/julia",
   "name": "julia",
   "version": "1.6.2"
  },
  "kernelspec": {
   "name": "julia-1.6",
   "display_name": "Julia 1.6.2",
   "language": "julia"
  }
 },
 "nbformat": 4
}
