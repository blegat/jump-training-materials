{
 "cells": [
  {
   "cell_type": "markdown",
   "source": [
    "# Getting started with data and plotting"
   ],
   "metadata": {}
  },
  {
   "cell_type": "markdown",
   "source": [
    "In many cases we might need to read data available in an external file rather\n",
    "than type it into Julia ourselves."
   ],
   "metadata": {}
  },
  {
   "cell_type": "markdown",
   "source": [
    "This tutorial is concerned with reading tabular data into Julia. We'll cover\n",
    "basic plotting along the way."
   ],
   "metadata": {}
  },
  {
   "cell_type": "markdown",
   "source": [
    "## Where to get help"
   ],
   "metadata": {}
  },
  {
   "cell_type": "markdown",
   "source": [
    "* Plots.jl documentation: http://docs.juliaplots.org/latest/\n",
    "* CSV.jl documentation: http://csv.juliadata.org/stable\n",
    "* DataFrames.jl documentation: https://dataframes.juliadata.org/stable/"
   ],
   "metadata": {}
  },
  {
   "outputs": [],
   "cell_type": "code",
   "source": [
    "# We need this constant to point to where the data file are.\n",
    "const DATA_DIR = joinpath(@__DIR__, \"data\");"
   ],
   "metadata": {},
   "execution_count": null
  },
  {
   "cell_type": "markdown",
   "source": [
    "!!! note\n",
    "    There are multiple ways to read the same kind of data into Julia. This\n",
    "    tutorial focuses on DataFrames.jl because it provides the ecosystem to\n",
    "    work with most of the required file types in a straightforward manner."
   ],
   "metadata": {}
  },
  {
   "cell_type": "markdown",
   "source": [
    "### DataFrames.jl"
   ],
   "metadata": {}
  },
  {
   "cell_type": "markdown",
   "source": [
    "The `DataFrames` package provides a set of tools for working with tabular\n",
    "data. It is available through the Julia package system.\n",
    "```julia\n",
    "using Pkg\n",
    "Pkg.add(\"DataFrames\")\n",
    "```"
   ],
   "metadata": {}
  },
  {
   "outputs": [],
   "cell_type": "code",
   "source": [
    "import DataFrames"
   ],
   "metadata": {},
   "execution_count": null
  },
  {
   "cell_type": "markdown",
   "source": [
    "### Plots.jl"
   ],
   "metadata": {}
  },
  {
   "cell_type": "markdown",
   "source": [
    "The `Plots` package provides a set of tools for plotting. It is available\n",
    "through the Julia package system.\n",
    "```julia\n",
    "using Pkg\n",
    "Pkg.add(\"Plotting\")\n",
    "```"
   ],
   "metadata": {}
  },
  {
   "outputs": [],
   "cell_type": "code",
   "source": [
    "import Plots"
   ],
   "metadata": {},
   "execution_count": null
  },
  {
   "cell_type": "markdown",
   "source": [
    "### What is a DataFrame?"
   ],
   "metadata": {}
  },
  {
   "cell_type": "markdown",
   "source": [
    "A DataFrame is a data structure like a table or spreadsheet. You can use it\n",
    "for storing and exploring a set of related data values. Think of it as a\n",
    "smarter array for holding tabular data."
   ],
   "metadata": {}
  },
  {
   "cell_type": "markdown",
   "source": [
    "## Reading Tabular Data into a DataFrame"
   ],
   "metadata": {}
  },
  {
   "cell_type": "markdown",
   "source": [
    "We will begin by reading data from different file formats into a DataFrame\n",
    "object."
   ],
   "metadata": {}
  },
  {
   "cell_type": "markdown",
   "source": [
    "### CSV files"
   ],
   "metadata": {}
  },
  {
   "cell_type": "markdown",
   "source": [
    "CSV and other delimited text files can be read by the CSV.jl package."
   ],
   "metadata": {}
  },
  {
   "cell_type": "markdown",
   "source": [
    "```julia\n",
    "Pkg.add(\"CSV\")\n",
    "```"
   ],
   "metadata": {}
  },
  {
   "outputs": [],
   "cell_type": "code",
   "source": [
    "import CSV"
   ],
   "metadata": {},
   "execution_count": null
  },
  {
   "cell_type": "markdown",
   "source": [
    "To read a CSV file into a DataFrame, we use the `CSV.read` function."
   ],
   "metadata": {}
  },
  {
   "outputs": [],
   "cell_type": "code",
   "source": [
    "csv_df = CSV.read(joinpath(DATA_DIR, \"StarWars.csv\"), DataFrames.DataFrame)"
   ],
   "metadata": {},
   "execution_count": null
  },
  {
   "cell_type": "markdown",
   "source": [
    "Let's try plotting some of this data"
   ],
   "metadata": {}
  },
  {
   "outputs": [],
   "cell_type": "code",
   "source": [
    "Plots.scatter(\n",
    "    csv_df.Weight,\n",
    "    csv_df.Height,\n",
    "    xlabel = \"Weight\",\n",
    "    ylabel = \"Height\",\n",
    ")"
   ],
   "metadata": {},
   "execution_count": null
  },
  {
   "cell_type": "markdown",
   "source": [
    "That doesn't look right. What happened? If you look at the dataframe above, it\n",
    "read `Weight` in as a `String` column because there are \"NA\" fields. Let's\n",
    "correct that, by telling CSV to consider \"NA\" as `missing`."
   ],
   "metadata": {}
  },
  {
   "outputs": [],
   "cell_type": "code",
   "source": [
    "csv_df = CSV.read(\n",
    "    joinpath(DATA_DIR, \"StarWars.csv\"),\n",
    "    DataFrames.DataFrame,\n",
    "    missingstring=\"NA\",\n",
    ")"
   ],
   "metadata": {},
   "execution_count": null
  },
  {
   "cell_type": "markdown",
   "source": [
    "Then let's re-plot our data"
   ],
   "metadata": {}
  },
  {
   "outputs": [],
   "cell_type": "code",
   "source": [
    "Plots.scatter(\n",
    "    csv_df.Weight,\n",
    "    csv_df.Height,\n",
    "    title = \"Height vs Weight of StarWars characters\",\n",
    "    xlabel = \"Weight\",\n",
    "    ylabel = \"Height\",\n",
    "    label = false,\n",
    "    ylims = (0, 3),\n",
    ")"
   ],
   "metadata": {},
   "execution_count": null
  },
  {
   "cell_type": "markdown",
   "source": [
    "Better! Read the [CSV documentation](https://csv.juliadata.org/stable/) for\n",
    "other parsing options."
   ],
   "metadata": {}
  },
  {
   "cell_type": "markdown",
   "source": [
    "DataFrames.jl supports manipulation using functions similar to pandas. For\n",
    "example, split the dataframe into groups based on eye-color:"
   ],
   "metadata": {}
  },
  {
   "outputs": [],
   "cell_type": "code",
   "source": [
    "by_eyecolor = DataFrames.groupby(csv_df, :Eyecolor)"
   ],
   "metadata": {},
   "execution_count": null
  },
  {
   "cell_type": "markdown",
   "source": [
    "Then recombine into a single dataframe based on a function operating over the\n",
    "split dataframes:"
   ],
   "metadata": {}
  },
  {
   "outputs": [],
   "cell_type": "code",
   "source": [
    "eyecolor_count = DataFrames.combine(by_eyecolor) do df\n",
    "    return DataFrames.nrow(df)\n",
    "end"
   ],
   "metadata": {},
   "execution_count": null
  },
  {
   "cell_type": "markdown",
   "source": [
    "We can rename columns:"
   ],
   "metadata": {}
  },
  {
   "outputs": [],
   "cell_type": "code",
   "source": [
    "DataFrames.rename!(eyecolor_count, :x1 => :count)"
   ],
   "metadata": {},
   "execution_count": null
  },
  {
   "cell_type": "markdown",
   "source": [
    "Drop some missing rows:"
   ],
   "metadata": {}
  },
  {
   "outputs": [],
   "cell_type": "code",
   "source": [
    "DataFrames.dropmissing!(eyecolor_count, :Eyecolor)"
   ],
   "metadata": {},
   "execution_count": null
  },
  {
   "cell_type": "markdown",
   "source": [
    "Then we can visualize the data:"
   ],
   "metadata": {}
  },
  {
   "outputs": [],
   "cell_type": "code",
   "source": [
    "sort!(eyecolor_count, :count, rev = true)\n",
    "Plots.bar(\n",
    "    eyecolor_count.Eyecolor,\n",
    "    eyecolor_count.count,\n",
    "    xlabel = \"Eyecolor\",\n",
    "    ylabel = \"Number of characters\",\n",
    "    label = false,\n",
    ")"
   ],
   "metadata": {},
   "execution_count": null
  },
  {
   "cell_type": "markdown",
   "source": [
    "### Other Delimited Files"
   ],
   "metadata": {}
  },
  {
   "cell_type": "markdown",
   "source": [
    "We can also use the `CSV.jl` package to read any other delimited text file\n",
    "format."
   ],
   "metadata": {}
  },
  {
   "cell_type": "markdown",
   "source": [
    "By default, CSV.File will try to detect a file's delimiter from the first 10\n",
    "lines of the file."
   ],
   "metadata": {}
  },
  {
   "cell_type": "markdown",
   "source": [
    "Candidate delimiters include `','`, `'\\t'`, `' '`, `'|'`, `';'`, and `':'`. If\n",
    "it can't auto-detect the delimiter, it will assume `','`."
   ],
   "metadata": {}
  },
  {
   "cell_type": "markdown",
   "source": [
    "Let's take the example of space separated data."
   ],
   "metadata": {}
  },
  {
   "outputs": [],
   "cell_type": "code",
   "source": [
    "ss_df = CSV.read(joinpath(DATA_DIR, \"Cereal.txt\"), DataFrames.DataFrame)"
   ],
   "metadata": {},
   "execution_count": null
  },
  {
   "cell_type": "markdown",
   "source": [
    "We can also specify the delimiter by passing the `delim` argument."
   ],
   "metadata": {}
  },
  {
   "outputs": [],
   "cell_type": "code",
   "source": [
    "delim_df = CSV.read(\n",
    "    joinpath(DATA_DIR, \"Soccer.txt\"),\n",
    "    DataFrames.DataFrame,\n",
    "    delim = \"::\",\n",
    ")"
   ],
   "metadata": {},
   "execution_count": null
  },
  {
   "cell_type": "markdown",
   "source": [
    "## Working with DataFrames"
   ],
   "metadata": {}
  },
  {
   "cell_type": "markdown",
   "source": [
    "Now that we have read the required data into a DataFrame, let us look at some\n",
    "basic operations we can perform on it."
   ],
   "metadata": {}
  },
  {
   "cell_type": "markdown",
   "source": [
    "### Querying Basic Information"
   ],
   "metadata": {}
  },
  {
   "cell_type": "markdown",
   "source": [
    "The `size` function gets us the dimensions of the DataFrame."
   ],
   "metadata": {}
  },
  {
   "outputs": [],
   "cell_type": "code",
   "source": [
    "DataFrames.size(ss_df)"
   ],
   "metadata": {},
   "execution_count": null
  },
  {
   "cell_type": "markdown",
   "source": [
    "We can also us the `nrow` and `ncol` functions to get the number of rows and\n",
    "columns respectively."
   ],
   "metadata": {}
  },
  {
   "outputs": [],
   "cell_type": "code",
   "source": [
    "DataFrames.nrow(ss_df), DataFrames.ncol(ss_df)"
   ],
   "metadata": {},
   "execution_count": null
  },
  {
   "cell_type": "markdown",
   "source": [
    "The `describe` function gives basic summary statistics of data in a DataFrame."
   ],
   "metadata": {}
  },
  {
   "outputs": [],
   "cell_type": "code",
   "source": [
    "DataFrames.describe(ss_df)"
   ],
   "metadata": {},
   "execution_count": null
  },
  {
   "cell_type": "markdown",
   "source": [
    "Names of every column can be obtained by the `names` function."
   ],
   "metadata": {}
  },
  {
   "outputs": [],
   "cell_type": "code",
   "source": [
    "DataFrames.names(ss_df)"
   ],
   "metadata": {},
   "execution_count": null
  },
  {
   "cell_type": "markdown",
   "source": [
    "Corresponding data types are obtained using the broadcasted `eltype` function."
   ],
   "metadata": {}
  },
  {
   "outputs": [],
   "cell_type": "code",
   "source": [
    "eltype.(ss_df)"
   ],
   "metadata": {},
   "execution_count": null
  },
  {
   "cell_type": "markdown",
   "source": [
    "### Accessing the Data"
   ],
   "metadata": {}
  },
  {
   "cell_type": "markdown",
   "source": [
    "Similar to regular arrays, we use numerical indexing to access elements of a\n",
    "DataFrame."
   ],
   "metadata": {}
  },
  {
   "outputs": [],
   "cell_type": "code",
   "source": [
    "csv_df[1, 1]"
   ],
   "metadata": {},
   "execution_count": null
  },
  {
   "cell_type": "markdown",
   "source": [
    "The following are different ways to access a column."
   ],
   "metadata": {}
  },
  {
   "outputs": [],
   "cell_type": "code",
   "source": [
    "csv_df[!, 1]"
   ],
   "metadata": {},
   "execution_count": null
  },
  {
   "outputs": [],
   "cell_type": "code",
   "source": [
    "csv_df[!, :Name]"
   ],
   "metadata": {},
   "execution_count": null
  },
  {
   "outputs": [],
   "cell_type": "code",
   "source": [
    "csv_df.Name"
   ],
   "metadata": {},
   "execution_count": null
  },
  {
   "outputs": [],
   "cell_type": "code",
   "source": [
    "csv_df[:, 1] # Note that this creates a copy."
   ],
   "metadata": {},
   "execution_count": null
  },
  {
   "cell_type": "markdown",
   "source": [
    "The following are different ways to access a row."
   ],
   "metadata": {}
  },
  {
   "outputs": [],
   "cell_type": "code",
   "source": [
    "csv_df[1:1, :]"
   ],
   "metadata": {},
   "execution_count": null
  },
  {
   "outputs": [],
   "cell_type": "code",
   "source": [
    "csv_df[1, :] # This produces a DataFrameRow."
   ],
   "metadata": {},
   "execution_count": null
  },
  {
   "cell_type": "markdown",
   "source": [
    "We can change the values just as we normally assign values."
   ],
   "metadata": {}
  },
  {
   "cell_type": "markdown",
   "source": [
    "Assign a range to scalar."
   ],
   "metadata": {}
  },
  {
   "outputs": [],
   "cell_type": "code",
   "source": [
    "csv_df[1:3, :Height] .= 1.83"
   ],
   "metadata": {},
   "execution_count": null
  },
  {
   "cell_type": "markdown",
   "source": [
    "Vector to equal length vector."
   ],
   "metadata": {}
  },
  {
   "outputs": [],
   "cell_type": "code",
   "source": [
    "csv_df[4:6, :Height] = [1.8, 1.6, 1.8]"
   ],
   "metadata": {},
   "execution_count": null
  },
  {
   "outputs": [],
   "cell_type": "code",
   "source": [
    "csv_df"
   ],
   "metadata": {},
   "execution_count": null
  },
  {
   "cell_type": "markdown",
   "source": [
    "!!! tip\n",
    "    There are a lot more things which can be done with a DataFrame. Read the\n",
    "    [docs](https://juliadata.github.io/DataFrames.jl/stable/) for more\n",
    "    information."
   ],
   "metadata": {}
  },
  {
   "cell_type": "markdown",
   "source": [
    "For information on dplyr-type syntax:\n",
    "* Read: https://dataframes.juliadata.org/stable/man/querying_frameworks/\n",
    "* Check out DataFramesMeta.jl: https://github.com/JuliaData/DataFramesMeta.jl"
   ],
   "metadata": {}
  },
  {
   "cell_type": "markdown",
   "source": [
    "---\n",
    "\n",
    "*This notebook was generated using [Literate.jl](https://github.com/fredrikekre/Literate.jl).*"
   ],
   "metadata": {}
  }
 ],
 "nbformat_minor": 3,
 "metadata": {
  "language_info": {
   "file_extension": ".jl",
   "mimetype": "application/julia",
   "name": "julia",
   "version": "1.6.2"
  },
  "kernelspec": {
   "name": "julia-1.6",
   "display_name": "Julia 1.6.2",
   "language": "julia"
  }
 },
 "nbformat": 4
}
