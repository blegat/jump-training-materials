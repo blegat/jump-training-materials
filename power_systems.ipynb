{
 "cells": [
  {
   "cell_type": "markdown",
   "source": [
    "# Power Systems"
   ],
   "metadata": {}
  },
  {
   "cell_type": "markdown",
   "source": [
    "This tutorial demonstrates how to formulate basic power systems engineering\n",
    "models in JuMP."
   ],
   "metadata": {}
  },
  {
   "cell_type": "markdown",
   "source": [
    "We will consider basic \"economic dispatch\" and \"unit commitment\" models\n",
    "without taking into account transmission constraints."
   ],
   "metadata": {}
  },
  {
   "cell_type": "markdown",
   "source": [
    "## Illustrative example"
   ],
   "metadata": {}
  },
  {
   "cell_type": "markdown",
   "source": [
    "For this example, we set the following characteristics of generators,\n",
    "transmission lines, wind farms and demands:"
   ],
   "metadata": {}
  },
  {
   "cell_type": "markdown",
   "source": [
    "| Quantity         | Generator 1 | Generator 2 |\n",
    "|:-----------------|:-----------:|------------:|\n",
    "| $g_{min}$, MW    | 0           | 300         |\n",
    "| $g_{max}$, MW    | 1000        | 1000        |\n",
    "| $c^g$, \\$/MWh    | 50          | 100         |\n",
    "| $c^{g0}$, \\$/MWh | 1000        | 0           |"
   ],
   "metadata": {}
  },
  {
   "cell_type": "markdown",
   "source": [
    "| Quantity      | Line 1 | Line 2 |\n",
    "|:--------------|:------:|-------:|\n",
    "| $f^{max}$, MW | 100    | 1000   |\n",
    "| $x$, p.u.     | 0.001  | 0.001  |"
   ],
   "metadata": {}
  },
  {
   "cell_type": "markdown",
   "source": [
    "| Quantity        | Wind farm 1 | Wind farm 2 |\n",
    "|:----------------|:-----------:|------------:|\n",
    "| $w^{f}$, MW     | 150         | 50          |\n",
    "| $c^{w}$, \\$/MWh | 50          | 50          |"
   ],
   "metadata": {}
  },
  {
   "cell_type": "markdown",
   "source": [
    "| Quantity | Bus 1 | Bus 2 | Bus 3 |\n",
    "|:---------|:-----:|:-----:|------:|\n",
    "| $d$, MW  | 0     | 0     | 15000 |"
   ],
   "metadata": {}
  },
  {
   "cell_type": "markdown",
   "source": [
    "## Economic dispatch"
   ],
   "metadata": {}
  },
  {
   "cell_type": "markdown",
   "source": [
    "Economic dispatch (ED) is an optimization problem that minimizes the cost of\n",
    "supplying energy demand subject to operational constraints on power system\n",
    "assets. In its simplest modification, ED is an LP problem solved for an\n",
    "aggregated load and wind forecast and for a single infinitesimal moment."
   ],
   "metadata": {}
  },
  {
   "cell_type": "markdown",
   "source": [
    "Mathematically, the ED problem can be written as follows:"
   ],
   "metadata": {}
  },
  {
   "cell_type": "markdown",
   "source": [
    "$$\n",
    "\\min \\sum_{i \\in I} c^g_{i} \\cdot g_{i} + c^w \\cdot w,\n",
    "$$"
   ],
   "metadata": {}
  },
  {
   "cell_type": "markdown",
   "source": [
    "where $c_{i}$ and $g_{i}$ are the incremental cost (\\\\&#36;/MWh) and power\n",
    "output (MW) of the $i^{th}$ generator, respectively, and $c^w$ and $w$ are the\n",
    "incremental cost (\\\\&#36;/MWh) and wind power injection (MW), respectively."
   ],
   "metadata": {}
  },
  {
   "cell_type": "markdown",
   "source": [
    "Subject to the constraints:"
   ],
   "metadata": {}
  },
  {
   "cell_type": "markdown",
   "source": [
    "* Minimum ($g^{\\min}$) and maximum ($g^{\\max}$) limits on power outputs of\n",
    "  generators:\n",
    "  $g^{\\min}_{i} \\leq g_{i} \\leq g^{\\max}_{i}.$\n",
    "* Constraint on the wind power injection:\n",
    "  $0 \\leq w \\leq w^f,$\n",
    "  where $w$ and $w^f$ are the wind power injection and wind power forecast,\n",
    "  respectively.\n",
    "* Power balance constraint:\n",
    "  $\\sum_{i \\in I} g_{i} + w = d^f,$\n",
    "  where $d^f$ is the demand forecast."
   ],
   "metadata": {}
  },
  {
   "cell_type": "markdown",
   "source": [
    "Further reading on ED models can be found in A. J. Wood, B. F. Wollenberg, and\n",
    "G. B. Sheblé, \"Power Generation, Operation and Control\", Wiley, 2013."
   ],
   "metadata": {}
  },
  {
   "cell_type": "markdown",
   "source": [
    "## JuMP Implementation of Economic Dispatch"
   ],
   "metadata": {}
  },
  {
   "outputs": [],
   "cell_type": "code",
   "source": [
    "using JuMP\n",
    "import DataFrames\n",
    "import GLPK\n",
    "using Plots\n",
    "using StatsPlots"
   ],
   "metadata": {},
   "execution_count": null
  },
  {
   "cell_type": "markdown",
   "source": [
    "Define some input data about the test system."
   ],
   "metadata": {}
  },
  {
   "cell_type": "markdown",
   "source": [
    "We define some thermal generators:"
   ],
   "metadata": {}
  },
  {
   "outputs": [],
   "cell_type": "code",
   "source": [
    "struct ThermalGenerator\n",
    "    min::Float64\n",
    "    max::Float64\n",
    "    fixed_cost::Float64\n",
    "    variable_cost::Float64\n",
    "end\n",
    "\n",
    "generators = [\n",
    "    ThermalGenerator(0.0, 1000.0, 1000.0, 50.0),\n",
    "    ThermalGenerator(300.0, 1000.0, 0.0, 100.0),\n",
    "]"
   ],
   "metadata": {},
   "execution_count": null
  },
  {
   "cell_type": "markdown",
   "source": [
    "A wind generator"
   ],
   "metadata": {}
  },
  {
   "outputs": [],
   "cell_type": "code",
   "source": [
    "struct WindGenerator\n",
    "    variable_cost::Float64\n",
    "end\n",
    "\n",
    "wind_generator = WindGenerator(50.0)"
   ],
   "metadata": {},
   "execution_count": null
  },
  {
   "cell_type": "markdown",
   "source": [
    "An a scenario"
   ],
   "metadata": {}
  },
  {
   "outputs": [],
   "cell_type": "code",
   "source": [
    "struct Scenario\n",
    "    demand::Float64\n",
    "    wind::Float64\n",
    "end\n",
    "\n",
    "scenario = Scenario(1500.0, 200.0)"
   ],
   "metadata": {},
   "execution_count": null
  },
  {
   "cell_type": "markdown",
   "source": [
    "Create a function solve_ed, which solves the economic dispatch problem for a\n",
    "given set of input parameters."
   ],
   "metadata": {}
  },
  {
   "outputs": [],
   "cell_type": "code",
   "source": [
    "function solve_ed(\n",
    "    generators::Vector{ThermalGenerator},\n",
    "    wind::WindGenerator,\n",
    "    scenario::Scenario,\n",
    ")\n",
    "    # Define the economic dispatch (ED) model\n",
    "    ed = Model(GLPK.Optimizer)\n",
    "    # Define decision variables\n",
    "    # power output of generators\n",
    "    N = length(generators)\n",
    "    @variable(ed, generators[i].min <= g[i = 1:N] <= generators[i].max)\n",
    "    # wind power injection\n",
    "    @variable(ed, 0 <= w <= scenario.wind)\n",
    "    # Define the objective function\n",
    "    @objective(\n",
    "        ed,\n",
    "        Min,\n",
    "        sum(generators[i].variable_cost * g[i] for i in 1:N) +\n",
    "        wind.variable_cost * w,\n",
    "    )\n",
    "    # Define the power balance constraint\n",
    "    @constraint(ed, sum(g[i] for i in 1:N) + w == scenario.demand)\n",
    "    # Solve statement\n",
    "    optimize!(ed)\n",
    "    # return the optimal value of the objective function and its minimizers\n",
    "    return (\n",
    "        g = value.(g),\n",
    "        w = value(w),\n",
    "        wind_spill = scenario.wind - value(w),\n",
    "        total_cost = objective_value(ed),\n",
    "    )\n",
    "end"
   ],
   "metadata": {},
   "execution_count": null
  },
  {
   "cell_type": "markdown",
   "source": [
    "Solve the economic dispatch problem"
   ],
   "metadata": {}
  },
  {
   "outputs": [],
   "cell_type": "code",
   "source": [
    "solution = solve_ed(generators, wind_generator, scenario);\n",
    "\n",
    "println(\"Dispatch of Generators: \", solution.g, \" MW\")\n",
    "println(\"Dispatch of Wind: \", solution.w, \" MW\")\n",
    "println(\"Wind spillage: \", solution.wind_spill, \" MW\")\n",
    "println(\"\\n\")\n",
    "println(\"Total cost: \\$\", solution.total_cost)"
   ],
   "metadata": {},
   "execution_count": null
  },
  {
   "cell_type": "markdown",
   "source": [
    "### Economic dispatch with adjustable incremental costs"
   ],
   "metadata": {}
  },
  {
   "cell_type": "markdown",
   "source": [
    "In the following exercise we adjust the incremental cost of generator G1 and\n",
    "observe its impact on the total cost."
   ],
   "metadata": {}
  },
  {
   "outputs": [],
   "cell_type": "code",
   "source": [
    "function scale_generator_cost(g::ThermalGenerator, scale)\n",
    "    return ThermalGenerator(\n",
    "        g.min,\n",
    "        g.max,\n",
    "        g.fixed_cost,\n",
    "        scale * g.variable_cost,\n",
    "    )\n",
    "end\n",
    "\n",
    "start = time()\n",
    "c_g_scale_df = DataFrames.DataFrame(\n",
    "    # Scale factor\n",
    "    scale = Float64[],\n",
    "    # Dispatch of Generator 1 [MW]\n",
    "    dispatch_G1 = Float64[],\n",
    "    # Dispatch of Generator 2 [MW]\n",
    "    dispatch_G2 = Float64[],\n",
    "    # Dispatch of Wind [MW]\n",
    "    dispatch_wind = Float64[],\n",
    "    # Spillage of Wind [MW]\n",
    "    spillage_wind = Float64[],\n",
    "    # Total cost [$]\n",
    "    total_cost = Float64[],\n",
    ")\n",
    "for c_g1_scale in 0.5:0.1:3.0\n",
    "    # Update the incremental cost of the first generator at every iteration.\n",
    "    new_generators = scale_generator_cost.(generators, [c_g1_scale, 1.0])\n",
    "    # Solve the ed problem with the updated incremental cost\n",
    "    sol = solve_ed(new_generators, wind_generator, scenario)\n",
    "    push!(\n",
    "        c_g_scale_df,\n",
    "        (c_g1_scale, sol.g[1], sol.g[2], sol.w, sol.wind_spill, sol.total_cost),\n",
    "    )\n",
    "end\n",
    "print(string(\"elapsed time: \", time() - start, \" seconds\"))"
   ],
   "metadata": {},
   "execution_count": null
  },
  {
   "outputs": [],
   "cell_type": "code",
   "source": [
    "c_g_scale_df"
   ],
   "metadata": {},
   "execution_count": null
  },
  {
   "cell_type": "markdown",
   "source": [
    "## Modifying the JuMP model in place"
   ],
   "metadata": {}
  },
  {
   "cell_type": "markdown",
   "source": [
    "Note that in the previous exercise we entirely rebuilt the optimization model\n",
    "at every iteration of the internal loop, which incurs an additional\n",
    "computational burden. This burden can be alleviated if instead of re-building\n",
    "the entire model, we modify a specific constraint(s) or the objective\n",
    "function, as it shown in the example below."
   ],
   "metadata": {}
  },
  {
   "cell_type": "markdown",
   "source": [
    "Compare the computing time in case of the above and below models."
   ],
   "metadata": {}
  },
  {
   "outputs": [],
   "cell_type": "code",
   "source": [
    "function solve_ed_inplace(\n",
    "    generators::Vector{ThermalGenerator},\n",
    "    wind::WindGenerator,\n",
    "    scenario::Scenario,\n",
    "    scale::AbstractVector{Float64},\n",
    ")\n",
    "    start = time()\n",
    "    obj_out = Float64[]\n",
    "    w_out = Float64[]\n",
    "    g1_out = Float64[]\n",
    "    g2_out = Float64[]\n",
    "    # This function only works for two generators\n",
    "    @assert length(generators) == 2\n",
    "    ed = Model(GLPK.Optimizer)\n",
    "    N = length(generators)\n",
    "    @variable(ed, generators[i].min <= g[i = 1:N] <= generators[i].max)\n",
    "    @variable(ed, 0 <= w <= scenario.wind)\n",
    "    @objective(\n",
    "        ed,\n",
    "        Min,\n",
    "        sum(generators[i].variable_cost * g[i] for i in 1:N) +\n",
    "        wind.variable_cost * w,\n",
    "    )\n",
    "    @constraint(ed, sum(g[i] for i in 1:N) + w == scenario.demand)\n",
    "    for c_g1_scale in scale\n",
    "        @objective(\n",
    "            ed,\n",
    "            Min,\n",
    "            c_g1_scale * generators[1].variable_cost * g[1] +\n",
    "            generators[2].variable_cost * g[2] +\n",
    "            wind.variable_cost * w,\n",
    "        )\n",
    "        optimize!(ed)\n",
    "        push!(obj_out, objective_value(ed))\n",
    "        push!(w_out, value(w))\n",
    "        push!(g1_out, value(g[1]))\n",
    "        push!(g2_out, value(g[2]))\n",
    "    end\n",
    "    df = DataFrames.DataFrame(\n",
    "        scale = scale,\n",
    "        dispatch_G1 = g1_out,\n",
    "        dispatch_G2 = g2_out,\n",
    "        dispatch_wind = w_out,\n",
    "        spillage_wind = scenario.wind .- w_out,\n",
    "        total_cost = obj_out,\n",
    "    )\n",
    "    elapsed = time() - start\n",
    "    print(string(\"elapsed time: \", elapsed, \" seconds\"))\n",
    "    return df\n",
    "end\n",
    "\n",
    "solve_ed_inplace(generators, wind_generator, scenario, 0.5:0.1:3.0)"
   ],
   "metadata": {},
   "execution_count": null
  },
  {
   "cell_type": "markdown",
   "source": [
    "Adjusting specific constraints and/or the objective function is faster than\n",
    "re-building the entire model."
   ],
   "metadata": {}
  },
  {
   "cell_type": "markdown",
   "source": [
    "## A few practical limitations of the economic dispatch model"
   ],
   "metadata": {}
  },
  {
   "cell_type": "markdown",
   "source": [
    "### Inefficient usage of wind generators"
   ],
   "metadata": {}
  },
  {
   "cell_type": "markdown",
   "source": [
    "The economic dispatch problem does not perform commitment decisions and, thus,\n",
    "assumes that all generators must be dispatched at least at their minimum power\n",
    "output limit. This approach is not cost efficient and may lead to absurd\n",
    "decisions. For example, if $ d = \\sum_{i \\in I} g^{\\min}_{i}$, the wind power\n",
    "injection must be zero, i.e. all available wind generation is spilled, to meet\n",
    "the minimum power output constraints on generators."
   ],
   "metadata": {}
  },
  {
   "cell_type": "markdown",
   "source": [
    "In the following example, we adjust the total demand and observed how it\n",
    "affects wind spillage."
   ],
   "metadata": {}
  },
  {
   "outputs": [],
   "cell_type": "code",
   "source": [
    "demand_scale_df = DataFrames.DataFrame(\n",
    "    demand = Float64[],\n",
    "    dispatch_G1 = Float64[],\n",
    "    dispatch_G2 = Float64[],\n",
    "    dispatch_wind = Float64[],\n",
    "    spillage_wind = Float64[],\n",
    "    total_cost = Float64[],\n",
    ")\n",
    "\n",
    "\"\"\"\n",
    "    Base.:(*)(scale::Float64, scenario::Scenario)\n",
    "\n",
    "Julia lets you overload any method. Here we add a method to `*` so we can scale\n",
    "the demand of a scenario.\n",
    "\"\"\"\n",
    "function Base.:(*)(scale::Float64, scenario::Scenario)\n",
    "    return Scenario(scale * scenario.demand, scenario.wind)\n",
    "end\n",
    "\n",
    "for demand_scale in 0.2:0.1:1.5\n",
    "    new_scenario = demand_scale * scenario\n",
    "    sol = solve_ed(generators, wind_generator, new_scenario)\n",
    "    push!(\n",
    "        demand_scale_df,\n",
    "        (\n",
    "            new_scenario.demand,\n",
    "            sol.g[1],\n",
    "            sol.g[2],\n",
    "            sol.w,\n",
    "            sol.wind_spill,\n",
    "            sol.total_cost,\n",
    "        ),\n",
    "    )\n",
    "end\n",
    "\n",
    "demand_scale_df"
   ],
   "metadata": {},
   "execution_count": null
  },
  {
   "outputs": [],
   "cell_type": "code",
   "source": [
    "dispatch_plot = @df(\n",
    "    demand_scale_df,\n",
    "    Plots.plot(\n",
    "        :demand,\n",
    "        [:dispatch_G1, :dispatch_G2],\n",
    "        labels = [\"G1\" \"G2\"],\n",
    "        title = \"Thermal Dispatch\",\n",
    "        legend = :bottomright,\n",
    "        linewidth = 3,\n",
    "        xlabel = \"Demand\",\n",
    "        ylabel = \"Dispatch [MW]\"\n",
    "    ),\n",
    ")\n",
    "\n",
    "wind_plot = @df(\n",
    "    demand_scale_df,\n",
    "    Plots.plot(\n",
    "        :demand,\n",
    "        [:dispatch_wind, :spillage_wind],\n",
    "        labels = [\"Dispatch\" \"Spillage\"],\n",
    "        title = \"Wind\",\n",
    "        legend = :bottomright,\n",
    "        linewidth = 3,\n",
    "        xlabel = \"Demand [MW]\",\n",
    "        ylabel = \"Energy [MW]\"\n",
    "    ),\n",
    ")\n",
    "\n",
    "Plots.plot(dispatch_plot, wind_plot)"
   ],
   "metadata": {},
   "execution_count": null
  },
  {
   "cell_type": "markdown",
   "source": [
    "This particular drawback can be overcome by introducing binary decisions on\n",
    "the \"on/off\" status of generators. This model is called unit commitment and\n",
    "considered later in these notes."
   ],
   "metadata": {}
  },
  {
   "cell_type": "markdown",
   "source": [
    "For further reading on the interplay between wind generation and the minimum\n",
    "power output constraints of generators, we refer interested readers to R.\n",
    "Baldick, \"Wind and Energy Markets: A Case Study of Texas,\" IEEE Systems\n",
    "Journal, vol. 6, pp. 27-34, 2012."
   ],
   "metadata": {}
  },
  {
   "cell_type": "markdown",
   "source": [
    "### Transmission-infeasible solution"
   ],
   "metadata": {}
  },
  {
   "cell_type": "markdown",
   "source": [
    "The ED solution is entirely market-based and disrespects limitations of the\n",
    "transmission network. Indeed, the flows in transmission lines would attain the\n",
    "following values:"
   ],
   "metadata": {}
  },
  {
   "cell_type": "markdown",
   "source": [
    "$$\n",
    "f_{1-2} = 150 MW \\leq f_{1-2}^{\\max} = 100 MW\n",
    "$$"
   ],
   "metadata": {}
  },
  {
   "cell_type": "markdown",
   "source": [
    "$$\n",
    "f_{2-3} = 1200 MW \\leq f_{2-3}^{\\max} = 1000 MW\n",
    "$$"
   ],
   "metadata": {}
  },
  {
   "cell_type": "markdown",
   "source": [
    "Thus, if this ED solution was enforced in practice, the power flow limits on\n",
    "both lines would be violated. Therefore, in the following section we consider\n",
    "the optimal power flow model, which amends the ED model with network\n",
    "constraints."
   ],
   "metadata": {}
  },
  {
   "cell_type": "markdown",
   "source": [
    "The importance of the transmission-aware decisions is emphasized in E.\n",
    "Lannoye, D. Flynn, and M. O'Malley, \"Transmission, Variable Generation, and\n",
    "Power System Flexibility,\" IEEE Transactions on Power Systems, vol. 30, pp.\n",
    "57-66, 2015."
   ],
   "metadata": {}
  },
  {
   "cell_type": "markdown",
   "source": [
    "## Unit Commitment model"
   ],
   "metadata": {}
  },
  {
   "cell_type": "markdown",
   "source": [
    "The Unit Commitment (UC) model can be obtained from ED model by introducing\n",
    "binary variable associated with each generator. This binary variable can\n",
    "attain two values: if it is \"1\", the generator is synchronized and, thus, can\n",
    "be dispatched, otherwise, i.e. if the binary variable is \"0\", that generator\n",
    "is not synchronized and its power output is set to 0."
   ],
   "metadata": {}
  },
  {
   "cell_type": "markdown",
   "source": [
    "To obtain the mathematical formulation of the UC model, we will modify the\n",
    "constraints of the ED model as follows:"
   ],
   "metadata": {}
  },
  {
   "cell_type": "markdown",
   "source": [
    "$$\n",
    "g^{\\min}_{i} \\cdot u_{t,i} \\leq g_{i} \\leq g^{\\max}_{i} \\cdot u_{t,i},\n",
    "$$\n",
    "where $u_{i} \\in \\{0,1\\}.$ In this constraint, if $u_{i} = 0$, then\n",
    "$g_{i}  = 0$. On the other hand, if $u_{i} = 1$, then\n",
    "$g^{min}_{i} \\leq g_{i} \\leq g^{max}_{i}$."
   ],
   "metadata": {}
  },
  {
   "cell_type": "markdown",
   "source": [
    "For further reading on the UC problem we refer interested readers to G.\n",
    "Morales-Espana, J. M. Latorre, and A. Ramos, \"Tight and Compact MILP\n",
    "Formulation for the Thermal Unit Commitment Problem,\" IEEE Transactions on\n",
    "Power Systems, vol. 28, pp. 4897-4908, 2013."
   ],
   "metadata": {}
  },
  {
   "cell_type": "markdown",
   "source": [
    "In the following example we convert the ED model explained above to the UC\n",
    "model."
   ],
   "metadata": {}
  },
  {
   "outputs": [],
   "cell_type": "code",
   "source": [
    "function solve_uc(\n",
    "    generators::Vector{ThermalGenerator},\n",
    "    wind::WindGenerator,\n",
    "    scenario::Scenario,\n",
    ")\n",
    "    uc = Model(GLPK.Optimizer)\n",
    "    N = length(generators)\n",
    "    @variable(uc, generators[i].min <= g[i = 1:N] <= generators[i].max)\n",
    "    @variable(uc, 0 <= w <= scenario.wind)\n",
    "    @constraint(uc, sum(g[i] for i in 1:N) + w == scenario.demand)\n",
    "    # !!! New: add binary on-off variables for each generator\n",
    "    @variable(uc, u[i = 1:N], Bin)\n",
    "    @constraint(uc, [i = 1:N], g[i] <= generators[i].max * u[i])\n",
    "    @constraint(uc, [i = 1:N], g[i] >= generators[i].min * u[i])\n",
    "    @objective(\n",
    "        uc,\n",
    "        Min,\n",
    "        sum(generators[i].variable_cost * g[i] for i in 1:N) +\n",
    "        wind.variable_cost * w +\n",
    "        # !!! new\n",
    "        sum(generators[i].fixed_cost * u[i] for i in 1:N)\n",
    "    )\n",
    "    optimize!(uc)\n",
    "    status = termination_status(uc)\n",
    "    if status != MOI.OPTIMAL\n",
    "        return (status = status,)\n",
    "    end\n",
    "    return (\n",
    "        status = status,\n",
    "        g = value.(g),\n",
    "        w = value(w),\n",
    "        wind_spill = scenario.wind - value(w),\n",
    "        u = value.(u),\n",
    "        total_cost = objective_value(uc),\n",
    "    )\n",
    "end"
   ],
   "metadata": {},
   "execution_count": null
  },
  {
   "cell_type": "markdown",
   "source": [
    "Solve the economic dispatch problem"
   ],
   "metadata": {}
  },
  {
   "outputs": [],
   "cell_type": "code",
   "source": [
    "solution = solve_uc(generators, wind_generator, scenario)\n",
    "\n",
    "println(\"Dispatch of Generators: \", solution.g, \" MW\")\n",
    "println(\"Commitments of Generators: \", solution.u)\n",
    "println(\"Dispatch of Wind: \", solution.w, \" MW\")\n",
    "println(\"Wind spillage: \", solution.wind_spill, \" MW\")\n",
    "println(\"\\n\")\n",
    "println(\"Total cost: \\$\", solution.total_cost)"
   ],
   "metadata": {},
   "execution_count": null
  },
  {
   "cell_type": "markdown",
   "source": [
    "### Unit Commitment as a function of demand"
   ],
   "metadata": {}
  },
  {
   "cell_type": "markdown",
   "source": [
    "After implementing the UC model, we can now assess the interplay between the\n",
    "minimum power output constraints on generators and wind generation."
   ],
   "metadata": {}
  },
  {
   "outputs": [],
   "cell_type": "code",
   "source": [
    "uc_df = DataFrames.DataFrame(\n",
    "    demand = Float64[],\n",
    "    commitment_G1 = Float64[],\n",
    "    commitment_G2 = Float64[],\n",
    "    dispatch_G1 = Float64[],\n",
    "    dispatch_G2 = Float64[],\n",
    "    dispatch_wind = Float64[],\n",
    "    spillage_wind = Float64[],\n",
    "    total_cost = Float64[],\n",
    ")\n",
    "\n",
    "for demand_scale in 0.2:0.1:1.5\n",
    "    new_scenario = demand_scale * scenario\n",
    "    sol = solve_uc(generators, wind_generator, new_scenario)\n",
    "    if sol.status == MOI.OPTIMAL\n",
    "        push!(\n",
    "            uc_df,\n",
    "            (\n",
    "                new_scenario.demand,\n",
    "                sol.u[1],\n",
    "                sol.u[2],\n",
    "                sol.g[1],\n",
    "                sol.g[2],\n",
    "                sol.w,\n",
    "                sol.wind_spill,\n",
    "                sol.total_cost,\n",
    "            ),\n",
    "        )\n",
    "    else\n",
    "        println(\"Status: $(sol.status) for demand_scale = $(demand_scale)\")\n",
    "    end\n",
    "end"
   ],
   "metadata": {},
   "execution_count": null
  },
  {
   "outputs": [],
   "cell_type": "code",
   "source": [
    "uc_df"
   ],
   "metadata": {},
   "execution_count": null
  },
  {
   "outputs": [],
   "cell_type": "code",
   "source": [
    "commitment_plot = @df(\n",
    "    uc_df,\n",
    "    Plots.plot(\n",
    "        :demand,\n",
    "        [:commitment_G1, :commitment_G2],\n",
    "        labels = [\"G1\" \"G2\"],\n",
    "        title = \"Committment\",\n",
    "        legend = :bottomright,\n",
    "        linewidth = 3,\n",
    "        xlabel = \"Demand [MW]\",\n",
    "        ylabel = \"Commitment decision {0, 1}\"\n",
    "    ),\n",
    ")\n",
    "\n",
    "dispatch_plot = @df(\n",
    "    uc_df,\n",
    "    Plots.plot(\n",
    "        :demand,\n",
    "        [:dispatch_G1, :dispatch_G2, :wind],\n",
    "        labels = [\"G1\" \"G2\" \"Wind\"],\n",
    "        title = \"Dispatch [MW]\",\n",
    "        legend = :bottomright,\n",
    "        linewidth = 3,\n",
    "        xlabel = \"Demand\",\n",
    "        ylabel = \"Dispatch [MW]\"\n",
    "    ),\n",
    ")\n",
    "\n",
    "Plots.plot(commitment_plot, dispatch_plot)"
   ],
   "metadata": {},
   "execution_count": null
  },
  {
   "cell_type": "markdown",
   "source": [
    "---\n",
    "\n",
    "*This notebook was generated using [Literate.jl](https://github.com/fredrikekre/Literate.jl).*"
   ],
   "metadata": {}
  }
 ],
 "nbformat_minor": 3,
 "metadata": {
  "language_info": {
   "file_extension": ".jl",
   "mimetype": "application/julia",
   "name": "julia",
   "version": "1.6.2"
  },
  "kernelspec": {
   "name": "julia-1.6",
   "display_name": "Julia 1.6.2",
   "language": "julia"
  }
 },
 "nbformat": 4
}
