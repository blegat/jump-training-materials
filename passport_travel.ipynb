{
 "cells": [
  {
   "cell_type": "markdown",
   "source": [
    "# The Passport Problem"
   ],
   "metadata": {}
  },
  {
   "cell_type": "markdown",
   "source": [
    "Let's now apply what we have learnt to solve a real modelling problem."
   ],
   "metadata": {}
  },
  {
   "cell_type": "markdown",
   "source": [
    "The [Passport Index Dataset](https://github.com/ilyankou/passport-index-dataset)\n",
    "lists travel visa requirements for 199 countries, in `.csv` format. Our task\n",
    "is to find out the minimum number of passports required to visit all\n",
    "countries without  requiring a visa."
   ],
   "metadata": {}
  },
  {
   "cell_type": "markdown",
   "source": [
    "## Data handling"
   ],
   "metadata": {}
  },
  {
   "cell_type": "markdown",
   "source": [
    "Read the following file into a dataframe:"
   ],
   "metadata": {}
  },
  {
   "outputs": [],
   "cell_type": "code",
   "source": [
    "const DATA_FILENAME = joinpath(@__DIR__, \"data\", \"passport-index-matrix.csv\")\n",
    "\n",
    "passport_data = nothing  # Replace this with Code"
   ],
   "metadata": {},
   "execution_count": null
  },
  {
   "cell_type": "markdown",
   "source": [
    "In this dataset, the first column represents a passport (=from) and each\n",
    "remaining column represents a foreign country (=to)."
   ],
   "metadata": {}
  },
  {
   "cell_type": "markdown",
   "source": [
    "The values in each cell are as follows:\n",
    "* 3 = visa-free travel\n",
    "* 2 = eTA is required\n",
    "* 1 = visa can be obtained on arrival\n",
    "* 0 = visa is required\n",
    "* -1 is for all instances where passport and destination are the same"
   ],
   "metadata": {}
  },
  {
   "cell_type": "markdown",
   "source": [
    "Extract the list of country names"
   ],
   "metadata": {}
  },
  {
   "outputs": [],
   "cell_type": "code",
   "source": [
    "countries = nothing  # Replace this with code"
   ],
   "metadata": {},
   "execution_count": null
  },
  {
   "cell_type": "markdown",
   "source": [
    "Let's check that you found all 199 countries"
   ],
   "metadata": {}
  },
  {
   "outputs": [],
   "cell_type": "code",
   "source": [
    "@assert length(countries) == 199"
   ],
   "metadata": {},
   "execution_count": null
  },
  {
   "cell_type": "markdown",
   "source": [
    "The values we are interested in are -1 and 3. Modify the dataframe so that\n",
    "the -1 and 3 are `1` (true), and all others are `0` (false)."
   ],
   "metadata": {}
  },
  {
   "outputs": [],
   "cell_type": "code",
   "source": [
    "nothing  # Replace this with code"
   ],
   "metadata": {},
   "execution_count": null
  },
  {
   "cell_type": "markdown",
   "source": [
    "The values in the dataframe should now represent:\n",
    " * 1 = no visa required for travel\n",
    " * 0 = visa required for travel"
   ],
   "metadata": {}
  },
  {
   "cell_type": "markdown",
   "source": [
    "## Visualization"
   ],
   "metadata": {}
  },
  {
   "cell_type": "markdown",
   "source": [
    "Produce a visualization of the passport data.  For example, you might want to\n",
    "plot a histogram of the number of countries that have visa-free travel."
   ],
   "metadata": {}
  },
  {
   "outputs": [],
   "cell_type": "code",
   "source": [
    "nothing"
   ],
   "metadata": {},
   "execution_count": null
  },
  {
   "cell_type": "markdown",
   "source": [
    "## Modelling"
   ],
   "metadata": {}
  },
  {
   "cell_type": "markdown",
   "source": [
    "We can formulate the passport problem in math as follows:\n",
    "$$\n",
    "\\begin{aligned}\n",
    "\\min && \\sum_{i \\in I} x_i \\\\\n",
    "\\text{s.t.} && \\sum_{i \\in I} a_{i,j} \\cdot x_i \\geq 1 && \\forall j \\in I \\\\\n",
    "&& x_i \\in \\{0,1\\} && \\forall i \\in I\n",
    "\\end{aligned}\n",
    "$$\n",
    "where $x_i$ is a binary variable indicating if we want to select passport $i$,\n",
    "and $a_{i,j}$ is 1 if there is visa-free travel between countries $i$ and $j$,\n",
    "and 0 otherwise."
   ],
   "metadata": {}
  },
  {
   "cell_type": "markdown",
   "source": [
    "Formulate and solve this problem with JuMP."
   ],
   "metadata": {}
  },
  {
   "outputs": [],
   "cell_type": "code",
   "source": [
    "nothing"
   ],
   "metadata": {},
   "execution_count": null
  },
  {
   "cell_type": "markdown",
   "source": [
    "---\n",
    "\n",
    "*This notebook was generated using [Literate.jl](https://github.com/fredrikekre/Literate.jl).*"
   ],
   "metadata": {}
  }
 ],
 "nbformat_minor": 3,
 "metadata": {
  "language_info": {
   "file_extension": ".jl",
   "mimetype": "application/julia",
   "name": "julia",
   "version": "1.6.2"
  },
  "kernelspec": {
   "name": "julia-1.6",
   "display_name": "Julia 1.6.2",
   "language": "julia"
  }
 },
 "nbformat": 4
}
